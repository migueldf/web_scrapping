{
 "cells": [
  {
   "cell_type": "code",
   "execution_count": 4,
   "id": "427e7a0f",
   "metadata": {},
   "outputs": [],
   "source": [
    "import time\n",
    "import re\n",
    "import sys\n",
    "import requests\n",
    "import numpy as np\n",
    "import pandas as pd\n",
    "from pathlib import Path\n",
    "\n",
    "from bs4 import BeautifulSoup\n",
    "\n",
    "from selenium import webdriver\n",
    "from selenium.webdriver.common.keys import Keys\n",
    "from selenium.webdriver.common.action_chains import ActionChains"
   ]
  },
  {
   "cell_type": "markdown",
   "id": "6f6287ba",
   "metadata": {},
   "source": [
    "# Uber Eats Scraping"
   ]
  },
  {
   "cell_type": "code",
   "execution_count": 5,
   "id": "89b42d1a",
   "metadata": {},
   "outputs": [],
   "source": [
    "url_uber = 'https://www.ubereats.com/mx/feed?ps=1&pl=JTdCJTIyYWRkcmVzcyUyMiUzQSUyMkNhdGVkcmFsJTIwTWV0cm9wb2xpdGFuYSUyMGRlJTIwbGElMjBDaXVkYWQlMjBkZSUyME0lQzMlQTl4aWNvJTIyJTJDJTIycmVmZXJlbmNlJTIyJTNBJTIyMzNjOWJiZGItNWY3OC01MGY2LTdmNmMtNDVmNzY4MzEzOTc5JTIyJTJDJTIycmVmZXJlbmNlVHlwZSUyMiUzQSUyMnViZXJfcGxhY2VzJTIyJTJDJTIybGF0aXR1ZGUlMjIlM0ExOS40MzAxNDQ2JTJDJTIybG9uZ2l0dWRlJTIyJTNBLTk5LjEzMzkxODYlN0Q%3D'\n",
    "\n",
    "driver = webdriver.Chrome()\n",
    "\n",
    "driver.get(url_uber)"
   ]
  },
  {
   "cell_type": "code",
   "execution_count": 6,
   "id": "9f1ba68f",
   "metadata": {},
   "outputs": [],
   "source": [
    "ActionChains(driver).send_keys(Keys.END).perform()\n",
    "time.sleep(3)\n",
    "button = driver.find_element_by_xpath('//button[normalize-space()=\"Mostrar más\"]')\n",
    "ActionChains(driver).click(button).perform()\n",
    "time.sleep(3)\n",
    "ActionChains(driver).send_keys(Keys.END).perform()\n",
    "time.sleep(3)\n",
    "button = driver.find_element_by_xpath('//button[normalize-space()=\"Mostrar más\"]')\n",
    "ActionChains(driver).click(button).perform()\n",
    "time.sleep(3)\n",
    "ActionChains(driver).send_keys(Keys.END).perform()\n",
    "\n",
    "page_source = driver.page_source"
   ]
  },
  {
   "cell_type": "code",
   "execution_count": 7,
   "id": "adfe6243",
   "metadata": {},
   "outputs": [],
   "source": [
    "driver.quit()\n",
    "\n",
    "Uber = BeautifulSoup(page_source, 'lxml')"
   ]
  },
  {
   "cell_type": "code",
   "execution_count": 73,
   "id": "23663d37",
   "metadata": {},
   "outputs": [],
   "source": [
    "#print(Uber.prettify())"
   ]
  },
  {
   "cell_type": "code",
   "execution_count": 74,
   "id": "2dfad012",
   "metadata": {},
   "outputs": [],
   "source": [
    "#get store names\n",
    "\n",
    "store_names = Uber.select('h3')\n",
    "\n",
    "store_names = [name.text for name in store_names]"
   ]
  },
  {
   "cell_type": "code",
   "execution_count": 79,
   "id": "c26fc805",
   "metadata": {},
   "outputs": [],
   "source": [
    "# get ratings\n",
    "\n",
    "ratings = Uber.find_all('div', class_='gg cc cd ec eb j7 cf g8 ag c0 g4')\n",
    "\n",
    "ratings = [rating.text for rating in ratings]"
   ]
  },
  {
   "cell_type": "code",
   "execution_count": 76,
   "id": "892af22f",
   "metadata": {},
   "outputs": [],
   "source": [
    "# get mashup list of delivery fee & delivery time\n",
    "\n",
    "mash = Uber.find_all('div', class_='cb f4 cr j5')\n",
    "\n",
    "mash = [element.text for element in mash]\n",
    "\n",
    "\n",
    "# filter delivery fee\n",
    "delivery_fee = []\n",
    "\n",
    "i= 1\n",
    "\n",
    "for x in range(int(len(mash)/5)):\n",
    "    delivery_fee.append(mash[i])\n",
    "    i+=3\n",
    "    \n",
    "\n",
    "# filter delivery times\n",
    "delivery_time = []\n",
    "\n",
    "i = 2\n",
    "for x in range(int(len(mash)/5)):\n",
    "    delivery_time.append(mash[i])\n",
    "    i+=3\n"
   ]
  },
  {
   "cell_type": "code",
   "execution_count": 89,
   "id": "02a542ec",
   "metadata": {
    "scrolled": true
   },
   "outputs": [
    {
     "data": {
      "text/html": [
       "<div>\n",
       "<style scoped>\n",
       "    .dataframe tbody tr th:only-of-type {\n",
       "        vertical-align: middle;\n",
       "    }\n",
       "\n",
       "    .dataframe tbody tr th {\n",
       "        vertical-align: top;\n",
       "    }\n",
       "\n",
       "    .dataframe thead th {\n",
       "        text-align: right;\n",
       "    }\n",
       "</style>\n",
       "<table border=\"1\" class=\"dataframe\">\n",
       "  <thead>\n",
       "    <tr style=\"text-align: right;\">\n",
       "      <th></th>\n",
       "      <th>Store</th>\n",
       "      <th>Rating</th>\n",
       "      <th>Delivery Fee</th>\n",
       "      <th>Delivery Time</th>\n",
       "    </tr>\n",
       "  </thead>\n",
       "  <tbody>\n",
       "    <tr>\n",
       "      <th>0</th>\n",
       "      <td>Di Paulos (Centro)</td>\n",
       "      <td>4.4</td>\n",
       "      <td>Costo de envío: MXN15</td>\n",
       "      <td>25–35 min</td>\n",
       "    </tr>\n",
       "    <tr>\n",
       "      <th>1</th>\n",
       "      <td>Restaurante Zesta Punta</td>\n",
       "      <td>4.5</td>\n",
       "      <td>Costo de envío: MXN21</td>\n",
       "      <td>30–40 min</td>\n",
       "    </tr>\n",
       "    <tr>\n",
       "      <th>2</th>\n",
       "      <td>Dynasty (PORTAL CENTRO)</td>\n",
       "      <td>4.2</td>\n",
       "      <td>Costo de envío: MXN17</td>\n",
       "      <td>30–40 min</td>\n",
       "    </tr>\n",
       "    <tr>\n",
       "      <th>3</th>\n",
       "      <td>alas k</td>\n",
       "      <td>4.6</td>\n",
       "      <td>Costo de envío: MXN21</td>\n",
       "      <td>30–40 min</td>\n",
       "    </tr>\n",
       "    <tr>\n",
       "      <th>4</th>\n",
       "      <td>Taqueria el hermanito</td>\n",
       "      <td>4.2</td>\n",
       "      <td>Costo de envío: MXN19</td>\n",
       "      <td>40–50 min</td>\n",
       "    </tr>\n",
       "    <tr>\n",
       "      <th>...</th>\n",
       "      <td>...</td>\n",
       "      <td>...</td>\n",
       "      <td>...</td>\n",
       "      <td>...</td>\n",
       "    </tr>\n",
       "    <tr>\n",
       "      <th>67</th>\n",
       "      <td>Súper Tacos CDMX</td>\n",
       "      <td>4.7</td>\n",
       "      <td>Costo de envío: MXN27</td>\n",
       "      <td>30–40 min</td>\n",
       "    </tr>\n",
       "    <tr>\n",
       "      <th>68</th>\n",
       "      <td>Caribe Venezuelan Kitchen</td>\n",
       "      <td>4.2</td>\n",
       "      <td>Costo de envío: MXN23</td>\n",
       "      <td>30–40 min</td>\n",
       "    </tr>\n",
       "    <tr>\n",
       "      <th>69</th>\n",
       "      <td>ZEMPO SUSHI</td>\n",
       "      <td>4.6</td>\n",
       "      <td>Costo de envío: MXN21</td>\n",
       "      <td>20–30 min</td>\n",
       "    </tr>\n",
       "    <tr>\n",
       "      <th>70</th>\n",
       "      <td>El Antojito</td>\n",
       "      <td>4.6</td>\n",
       "      <td>Costo de envío: MXN17</td>\n",
       "      <td>35–45 min</td>\n",
       "    </tr>\n",
       "    <tr>\n",
       "      <th>71</th>\n",
       "      <td>Cook&amp;Go</td>\n",
       "      <td>4.2</td>\n",
       "      <td>Costo de envío: MXN13</td>\n",
       "      <td>35–45 min</td>\n",
       "    </tr>\n",
       "  </tbody>\n",
       "</table>\n",
       "<p>72 rows × 4 columns</p>\n",
       "</div>"
      ],
      "text/plain": [
       "                        Store Rating           Delivery Fee Delivery Time\n",
       "0          Di Paulos (Centro)    4.4  Costo de envío: MXN15     25–35 min\n",
       "1     Restaurante Zesta Punta    4.5  Costo de envío: MXN21     30–40 min\n",
       "2     Dynasty (PORTAL CENTRO)    4.2  Costo de envío: MXN17     30–40 min\n",
       "3                      alas k    4.6  Costo de envío: MXN21     30–40 min\n",
       "4       Taqueria el hermanito    4.2  Costo de envío: MXN19     40–50 min\n",
       "..                        ...    ...                    ...           ...\n",
       "67           Súper Tacos CDMX    4.7  Costo de envío: MXN27     30–40 min\n",
       "68  Caribe Venezuelan Kitchen    4.2  Costo de envío: MXN23     30–40 min\n",
       "69                ZEMPO SUSHI    4.6  Costo de envío: MXN21     20–30 min\n",
       "70                El Antojito    4.6  Costo de envío: MXN17     35–45 min\n",
       "71                   Cook&Go     4.2  Costo de envío: MXN13     35–45 min\n",
       "\n",
       "[72 rows x 4 columns]"
      ]
     },
     "execution_count": 89,
     "metadata": {},
     "output_type": "execute_result"
    }
   ],
   "source": [
    "uber_data = pd.DataFrame(list(zip(store_names,ratings,delivery_fee,delivery_time)),columns = ['Store','Rating','Delivery Fee','Delivery Time'])\n",
    "\n",
    "uber_data"
   ]
  },
  {
   "cell_type": "code",
   "execution_count": 107,
   "id": "6c28230f",
   "metadata": {},
   "outputs": [],
   "source": [
    "uber_data.to_csv(\"/Users/miguel.d.ferrusca/Google Drive/Ironhack/Projects/web_scrapping/uber_data.csv\")"
   ]
  },
  {
   "cell_type": "markdown",
   "id": "0d8823e2",
   "metadata": {},
   "source": [
    "# Rappi"
   ]
  },
  {
   "cell_type": "code",
   "execution_count": 12,
   "id": "0be5a54d",
   "metadata": {},
   "outputs": [],
   "source": [
    "url_rappi = 'https://www.rappi.com.mx/restaurantes'\n",
    "\n",
    "driver = webdriver.Chrome()\n",
    "\n",
    "driver.get(url_rappi)"
   ]
  },
  {
   "cell_type": "code",
   "execution_count": 13,
   "id": "eced66ed",
   "metadata": {},
   "outputs": [],
   "source": [
    "popup_button = driver.find_element_by_xpath('//*[@id=\"address-modal\"]/div/div/div[1]/div[2]/div[2]/div/div/div[1]/div[1]/i')\n",
    "ActionChains(driver).click(popup_button).perform()\n",
    "time.sleep(3)\n",
    "ActionChains(driver).send_keys(Keys.END).perform()\n",
    "time.sleep(3)\n",
    "more_button = driver.find_element_by_xpath('//*[@id=\"app-container\"]/div/span/app-by-stores-home/div[1]/div[2]/div[2]/button')\n",
    "ActionChains(driver).click(more_button).perform()\n",
    "time.sleep(3)\n",
    "ActionChains(driver).send_keys(Keys.END).perform()\n",
    "\n",
    "page_source = driver.page_source"
   ]
  },
  {
   "cell_type": "code",
   "execution_count": 14,
   "id": "7773dd6c",
   "metadata": {},
   "outputs": [],
   "source": [
    "driver.quit()"
   ]
  },
  {
   "cell_type": "code",
   "execution_count": 15,
   "id": "20515ef9",
   "metadata": {},
   "outputs": [],
   "source": [
    "rappi_soup = BeautifulSoup(page_source,'lxml')"
   ]
  },
  {
   "cell_type": "code",
   "execution_count": 17,
   "id": "3afa4501",
   "metadata": {},
   "outputs": [],
   "source": [
    "rappi_stores = rappi_soup.select('h2', class_='store-name')\n",
    "rappi_stores_names = [store.text for store in rappi_stores]"
   ]
  },
  {
   "cell_type": "code",
   "execution_count": 99,
   "id": "9dc77e28",
   "metadata": {},
   "outputs": [],
   "source": [
    "rappi_cuisines = rappi_soup.select('h3',class_='store-tags')\n",
    "rappi_cuisines_names = [cuisine.text for cuisine in rappi_cuisines]\n",
    "\n",
    "rappi_cuisines_names = rappi_cuisines_names[:80]"
   ]
  },
  {
   "cell_type": "code",
   "execution_count": 100,
   "id": "a0102e06",
   "metadata": {},
   "outputs": [],
   "source": [
    "rappi_rating = rappi_soup.find_all('span', class_='score ng-star-inserted')\n",
    "\n",
    "rappi_ratings = [star.text for star in rappi_rating]"
   ]
  },
  {
   "cell_type": "code",
   "execution_count": 101,
   "id": "0e5c1e23",
   "metadata": {},
   "outputs": [
    {
     "data": {
      "text/plain": [
       "80"
      ]
     },
     "execution_count": 101,
     "metadata": {},
     "output_type": "execute_result"
    }
   ],
   "source": [
    "rappi_eta = rappi_soup.find_all('span', class_='store-eta ng-star-inserted')\n",
    "\n",
    "rappi_eta = [eta.text for eta in rappi_eta]\n",
    "len(rappi_eta)"
   ]
  },
  {
   "cell_type": "code",
   "execution_count": 103,
   "id": "a8ca814f",
   "metadata": {},
   "outputs": [
    {
     "data": {
      "text/html": [
       "<div>\n",
       "<style scoped>\n",
       "    .dataframe tbody tr th:only-of-type {\n",
       "        vertical-align: middle;\n",
       "    }\n",
       "\n",
       "    .dataframe tbody tr th {\n",
       "        vertical-align: top;\n",
       "    }\n",
       "\n",
       "    .dataframe thead th {\n",
       "        text-align: right;\n",
       "    }\n",
       "</style>\n",
       "<table border=\"1\" class=\"dataframe\">\n",
       "  <thead>\n",
       "    <tr style=\"text-align: right;\">\n",
       "      <th></th>\n",
       "      <th>Store</th>\n",
       "      <th>Cuisine Type</th>\n",
       "      <th>Rating</th>\n",
       "      <th>Delivery Time</th>\n",
       "    </tr>\n",
       "  </thead>\n",
       "  <tbody>\n",
       "    <tr>\n",
       "      <th>0</th>\n",
       "      <td>[ Boston's ]</td>\n",
       "      <td>Pizza ,  Italiana</td>\n",
       "      <td>[ 4.2 ]</td>\n",
       "      <td>100 min</td>\n",
       "    </tr>\n",
       "    <tr>\n",
       "      <th>1</th>\n",
       "      <td>[ Taquearte ]</td>\n",
       "      <td>Tacos ,  Mexicana</td>\n",
       "      <td>[ 4.3 ]</td>\n",
       "      <td>100 min</td>\n",
       "    </tr>\n",
       "    <tr>\n",
       "      <th>2</th>\n",
       "      <td>[ Tacotlan ]</td>\n",
       "      <td>Mexicana</td>\n",
       "      <td>[ 4.2 ]</td>\n",
       "      <td>100 min</td>\n",
       "    </tr>\n",
       "    <tr>\n",
       "      <th>3</th>\n",
       "      <td>[ Last Slice ]</td>\n",
       "      <td>Pizza</td>\n",
       "      <td>[ 4.5 ]</td>\n",
       "      <td>100 min</td>\n",
       "    </tr>\n",
       "    <tr>\n",
       "      <th>4</th>\n",
       "      <td>[ McDonald's ]</td>\n",
       "      <td>Hamburguesas ,  Desayunos</td>\n",
       "      <td>[ 4.7 ]</td>\n",
       "      <td>100 min</td>\n",
       "    </tr>\n",
       "    <tr>\n",
       "      <th>...</th>\n",
       "      <td>...</td>\n",
       "      <td>...</td>\n",
       "      <td>...</td>\n",
       "      <td>...</td>\n",
       "    </tr>\n",
       "    <tr>\n",
       "      <th>64</th>\n",
       "      <td>[ Starbucks ]</td>\n",
       "      <td>Café ,  Desayunos</td>\n",
       "      <td>[ 4.7 ]</td>\n",
       "      <td>100 min</td>\n",
       "    </tr>\n",
       "    <tr>\n",
       "      <th>65</th>\n",
       "      <td>[ Taquería El Greco ]</td>\n",
       "      <td>Tacos ,  Árabe</td>\n",
       "      <td>[ 4.7 ]</td>\n",
       "      <td>100 min</td>\n",
       "    </tr>\n",
       "    <tr>\n",
       "      <th>66</th>\n",
       "      <td>[ Hayito ]</td>\n",
       "      <td>Tacos ,  Árabe</td>\n",
       "      <td>[ 4.5 ]</td>\n",
       "      <td>100 min</td>\n",
       "    </tr>\n",
       "    <tr>\n",
       "      <th>67</th>\n",
       "      <td>[ Lima Limón Frutería &amp; Loncheria ]</td>\n",
       "      <td>Mexicana ,  Comida Rápida</td>\n",
       "      <td>[ 4.6 ]</td>\n",
       "      <td>100 min</td>\n",
       "    </tr>\n",
       "    <tr>\n",
       "      <th>68</th>\n",
       "      <td>[ Buda Roll 2X1 ]</td>\n",
       "      <td>Sushi ,  Asiática</td>\n",
       "      <td>[ 4.1 ]</td>\n",
       "      <td>100 min</td>\n",
       "    </tr>\n",
       "  </tbody>\n",
       "</table>\n",
       "<p>69 rows × 4 columns</p>\n",
       "</div>"
      ],
      "text/plain": [
       "                                  Store                 Cuisine Type   Rating  \\\n",
       "0                          [ Boston's ]           Pizza ,  Italiana   [ 4.2 ]   \n",
       "1                         [ Taquearte ]           Tacos ,  Mexicana   [ 4.3 ]   \n",
       "2                          [ Tacotlan ]                    Mexicana   [ 4.2 ]   \n",
       "3                        [ Last Slice ]                       Pizza   [ 4.5 ]   \n",
       "4                        [ McDonald's ]   Hamburguesas ,  Desayunos   [ 4.7 ]   \n",
       "..                                  ...                          ...      ...   \n",
       "64                        [ Starbucks ]           Café ,  Desayunos   [ 4.7 ]   \n",
       "65                [ Taquería El Greco ]              Tacos ,  Árabe   [ 4.7 ]   \n",
       "66                           [ Hayito ]              Tacos ,  Árabe   [ 4.5 ]   \n",
       "67  [ Lima Limón Frutería & Loncheria ]   Mexicana ,  Comida Rápida   [ 4.6 ]   \n",
       "68                    [ Buda Roll 2X1 ]           Sushi ,  Asiática   [ 4.1 ]   \n",
       "\n",
       "   Delivery Time  \n",
       "0       100 min   \n",
       "1       100 min   \n",
       "2       100 min   \n",
       "3       100 min   \n",
       "4       100 min   \n",
       "..           ...  \n",
       "64      100 min   \n",
       "65      100 min   \n",
       "66      100 min   \n",
       "67      100 min   \n",
       "68      100 min   \n",
       "\n",
       "[69 rows x 4 columns]"
      ]
     },
     "execution_count": 103,
     "metadata": {},
     "output_type": "execute_result"
    }
   ],
   "source": [
    "rappi_data = pd.DataFrame(list(zip(rappi_stores,rappi_cuisines_names,rappi_rating,rappi_eta)),columns = ['Store','Cuisine Type','Rating','Delivery Time'])\n",
    "\n",
    "rappi_data"
   ]
  },
  {
   "cell_type": "code",
   "execution_count": 108,
   "id": "765e0ef2",
   "metadata": {},
   "outputs": [],
   "source": [
    "rappi_data.to_csv(\"/Users/miguel.d.ferrusca/Google Drive/Ironhack/Projects/web_scrapping/rappi_data.csv\")"
   ]
  },
  {
   "cell_type": "code",
   "execution_count": null,
   "id": "f0ec5457",
   "metadata": {},
   "outputs": [],
   "source": []
  }
 ],
 "metadata": {
  "kernelspec": {
   "display_name": "ironhack",
   "language": "python",
   "name": "ironhack"
  },
  "language_info": {
   "codemirror_mode": {
    "name": "ipython",
    "version": 3
   },
   "file_extension": ".py",
   "mimetype": "text/x-python",
   "name": "python",
   "nbconvert_exporter": "python",
   "pygments_lexer": "ipython3",
   "version": "3.9.4"
  }
 },
 "nbformat": 4,
 "nbformat_minor": 5
}
